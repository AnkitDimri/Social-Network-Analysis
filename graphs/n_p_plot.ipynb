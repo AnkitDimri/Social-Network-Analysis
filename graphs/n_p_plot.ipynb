{
 "cells": [
  {
   "cell_type": "code",
   "execution_count": 1,
   "metadata": {},
   "outputs": [],
   "source": [
    "import igraph as ig\n",
    "import cairocffi as cairo\n",
    "import numpy as np\n",
    "import matplotlib.pyplot as plt\n",
    "import random"
   ]
  },
  {
   "cell_type": "code",
   "execution_count": null,
   "metadata": {},
   "outputs": [],
   "source": []
  },
  {
   "cell_type": "code",
   "execution_count": null,
   "metadata": {},
   "outputs": [],
   "source": []
  },
  {
   "cell_type": "code",
   "execution_count": 2,
   "metadata": {},
   "outputs": [],
   "source": [
    "def connected (v, p):\n",
    "\n",
    "    G = ig.Graph (n=v)\n",
    "\n",
    "    for i in range (0, v-1):\n",
    "        for j in range (i+1, v):\n",
    "            r = toss (p)\n",
    "\n",
    "            if r is 1:\n",
    "                G.add_edges ([(i,j)])\n",
    "            \n",
    "    #print (G)\n",
    "    return G.is_connected ()\n",
    "\n",
    "        "
   ]
  },
  {
   "cell_type": "code",
   "execution_count": 3,
   "metadata": {},
   "outputs": [],
   "source": [
    "def toss (p):\n",
    "    \n",
    "    r = random.random ()\n",
    "    \n",
    "    return 1 if r < p else 0"
   ]
  },
  {
   "cell_type": "code",
   "execution_count": 4,
   "metadata": {},
   "outputs": [],
   "source": [
    "def plot_nVSp (n):\n",
    "    \n",
    "    v_size = []\n",
    "    prob = []\n",
    "    \n",
    "    for i in range (n):\n",
    "        \n",
    "        v = i+1\n",
    "        for j in range (100):\n",
    "            \n",
    "            p = (j+1)/100\n",
    "            \n",
    "            check = connected (v, p)\n",
    "            \n",
    "            if connected (v, p):\n",
    "                v_size.append (v)\n",
    "                prob.append (p)\n",
    "                break\n",
    "            \n",
    "        \n",
    "    \n",
    "    plt.plot (v_size, prob)\n",
    "            \n",
    "            "
   ]
  },
  {
   "cell_type": "code",
   "execution_count": null,
   "metadata": {},
   "outputs": [],
   "source": []
  },
  {
   "cell_type": "code",
   "execution_count": null,
   "metadata": {},
   "outputs": [],
   "source": []
  },
  {
   "cell_type": "code",
   "execution_count": 5,
   "metadata": {},
   "outputs": [
    {
     "data": {
      "image/png": "[encoded data removed]",
      "text/plain": [
       "<Figure size 432x288 with 1 Axes>"
      ]
     },
     "metadata": {
      "needs_background": "light"
     },
     "output_type": "display_data"
    }
   ],
   "source": [
    "# plot for n values from 1-100\n",
    "plt.xlabel (\"n\")\n",
    "plt.ylabel (\"Probablity\")\n",
    "\n",
    "plot_nVSp (100)"
   ]
  },
  {
   "cell_type": "code",
   "execution_count": 6,
   "metadata": {},
   "outputs": [
    {
     "data": {
      "text/plain": [
       "<Figure size 432x288 with 0 Axes>"
      ]
     },
     "metadata": {},
     "output_type": "display_data"
    }
   ],
   "source": [
    "plt.savefig (\"n_p_plot.png\")"
   ]
  },
  {
   "cell_type": "code",
   "execution_count": null,
   "metadata": {},
   "outputs": [],
   "source": []
  }
 ],
 "metadata": {
  "kernelspec": {
   "display_name": "Python 3",
   "language": "python",
   "name": "python3"
  },
  "language_info": {
   "codemirror_mode": {
    "name": "ipython",
    "version": 3
   },
   "file_extension": ".py",
   "mimetype": "text/x-python",
   "name": "python",
   "nbconvert_exporter": "python",
   "pygments_lexer": "ipython3",
   "version": "3.7.3"
  }
 },
 "nbformat": 4,
 "nbformat_minor": 2
}
